{
 "cells": [
  {
   "cell_type": "code",
   "id": "initial_id",
   "metadata": {
    "collapsed": true,
    "ExecuteTime": {
     "end_time": "2024-10-19T19:08:44.280692Z",
     "start_time": "2024-10-19T19:08:44.275230Z"
    }
   },
   "source": "1",
   "outputs": [
    {
     "data": {
      "text/plain": [
       "1"
      ]
     },
     "execution_count": 1,
     "metadata": {},
     "output_type": "execute_result"
    }
   ],
   "execution_count": 1
  },
  {
   "metadata": {
    "ExecuteTime": {
     "end_time": "2024-10-18T19:55:34.841416Z",
     "start_time": "2024-10-18T19:55:34.464730Z"
    }
   },
   "cell_type": "code",
   "source": [
    "import trimesh\n",
    "\n",
    "mesh = trimesh.load_mesh('/work/sarandi/data/ehf/99_align.ply')"
   ],
   "id": "99ac575fb53f9243",
   "outputs": [],
   "execution_count": 2
  },
  {
   "metadata": {
    "ExecuteTime": {
     "end_time": "2024-10-18T19:56:24.805838Z",
     "start_time": "2024-10-18T19:56:24.802810Z"
    }
   },
   "cell_type": "code",
   "source": "mesh.vertices.shape",
   "id": "6cb707d784dad152",
   "outputs": [
    {
     "data": {
      "text/plain": [
       "(10475, 3)"
      ]
     },
     "execution_count": 5,
     "metadata": {},
     "output_type": "execute_result"
    }
   ],
   "execution_count": 5
  },
  {
   "metadata": {
    "ExecuteTime": {
     "end_time": "2024-10-18T19:59:10.257791Z",
     "start_time": "2024-10-18T19:59:10.255356Z"
    }
   },
   "cell_type": "code",
   "source": [
    "import numpy as np\n",
    "a = np.load('/work/sarandi/data/body_models/smplx/SMPLX_NEUTRAL.npz')"
   ],
   "id": "29578dd7c71b2d80",
   "outputs": [],
   "execution_count": 10
  },
  {
   "metadata": {
    "ExecuteTime": {
     "end_time": "2024-10-18T20:00:31.476029Z",
     "start_time": "2024-10-18T20:00:31.473897Z"
    }
   },
   "cell_type": "code",
   "source": [
    "import simplepyutils as spu\n",
    "a = spu.load_pickle('/work/sarandi/data/body_models/smplx/MANO_SMPLX_vertex_ids.pkl')"
   ],
   "id": "12458636294183d9",
   "outputs": [],
   "execution_count": 14
  },
  {
   "metadata": {
    "ExecuteTime": {
     "end_time": "2024-10-19T19:16:29.951139Z",
     "start_time": "2024-10-19T19:16:29.946212Z"
    }
   },
   "cell_type": "code",
   "source": [
    "\n",
    "def make_hand_regressors(regressor):\n",
    "    bm = smpl.numpy.get_cached_body_model('smplx', 'neutral')\n",
    "    n_verts = bm.num_vertices\n",
    "    n_hand_joints = 21\n",
    "    lhand_regressor = np.zeros((n_hand_joints, n_verts), np.float32)\n",
    "    rhand_regressor = np.zeros((n_hand_joints, n_verts), np.float32)\n",
    "    lhand_regressor[:4] = regressor[[20,37,38,39]]\n",
    "    lhand_regressor[4, 5361] = 1\n",
    "    lhand_regressor[5:8] = regressor[[25,26,27]]\n",
    "    lhand_regressor[8, 4933] = 1\n",
    "    lhand_regressor[9:12] = regressor[[28,29,30]]\n",
    "    lhand_regressor[12, 5058] = 1\n",
    "    lhand_regressor[13:16] = regressor[[34,35,36]]\n",
    "    lhand_regressor[16, 5169] = 1\n",
    "    lhand_regressor[17:20] = regressor[[31,32,33]]\n",
    "    lhand_regressor[20, 5286] = 1\n",
    "    \n",
    "    rhand_regressor[:4] = regressor[[21,52,53,54]]\n",
    "    rhand_regressor[4, 8079] = 1\n",
    "    rhand_regressor[5:8] = regressor[[40,41,42]]\n",
    "    rhand_regressor[8, 7669] = 1\n",
    "    rhand_regressor[9:12] = regressor[[43,44,45]]\n",
    "    rhand_regressor[12, 7794] = 1\n",
    "    rhand_regressor[13:16] = regressor[[49,50,51]]\n",
    "    rhand_regressor[16, 7905] = 1\n",
    "    rhand_regressor[17:20] = regressor[[46,47,48]]\n",
    "    rhand_regressor[20, 8022] = 1\n",
    "    return lhand_regressor, rhand_regressor\n",
    "    \n",
    "\n",
    "import os\n",
    "import numpy as np\n",
    "os.environ['DATA_ROOT'] = '/work/sarandi/data'\n",
    "import smpl.numpy\n",
    "\n",
    "hand_regressor2 = make_hand_regressor(bm.J_regressor)"
   ],
   "id": "a393e1d88b0bbd43",
   "outputs": [],
   "execution_count": 8
  },
  {
   "metadata": {
    "ExecuteTime": {
     "end_time": "2024-10-19T19:16:37.163004Z",
     "start_time": "2024-10-19T19:16:37.160394Z"
    }
   },
   "cell_type": "code",
   "source": "hand_regressor['left'].shape",
   "id": "c5101b4cdbb2d195",
   "outputs": [
    {
     "data": {
      "text/plain": [
       "(21, 10475)"
      ]
     },
     "execution_count": 10,
     "metadata": {},
     "output_type": "execute_result"
    }
   ],
   "execution_count": 10
  },
  {
   "metadata": {},
   "cell_type": "markdown",
   "source": "",
   "id": "7b168a9d5a75b388"
  },
  {
   "metadata": {
    "ExecuteTime": {
     "end_time": "2024-10-19T19:28:04.516244Z",
     "start_time": "2024-10-19T19:28:04.513241Z"
    }
   },
   "cell_type": "code",
   "source": "np.all(hand_regressor2['left'] == hand_regressor['left'])",
   "id": "7968cae305501c4b",
   "outputs": [
    {
     "data": {
      "text/plain": [
       "True"
      ]
     },
     "execution_count": 13,
     "metadata": {},
     "output_type": "execute_result"
    }
   ],
   "execution_count": 13
  },
  {
   "metadata": {
    "ExecuteTime": {
     "end_time": "2024-10-20T16:21:48.045112Z",
     "start_time": "2024-10-20T16:21:47.968952Z"
    }
   },
   "cell_type": "code",
   "source": [
    "import smplfit.np.rotation\n",
    "import numpy as np"
   ],
   "id": "cbedbb3c1a8aeb5c",
   "outputs": [],
   "execution_count": 1
  },
  {
   "metadata": {
    "ExecuteTime": {
     "end_time": "2024-10-20T16:21:48.614641Z",
     "start_time": "2024-10-20T16:21:48.610207Z"
    }
   },
   "cell_type": "code",
   "source": [
    "smplfit.np.rotation.rotvec2mat(np.eye(3))\n",
    "\n",
    "smplfit.np.rotation.mat2rotvec(np.eye(3))"
   ],
   "id": "9966fe559f24994b",
   "outputs": [
    {
     "data": {
      "text/plain": [
       "array([0., 0., 0.])"
      ]
     },
     "execution_count": 2,
     "metadata": {},
     "output_type": "execute_result"
    }
   ],
   "execution_count": 2
  },
  {
   "metadata": {
    "ExecuteTime": {
     "end_time": "2024-10-20T16:35:43.844938Z",
     "start_time": "2024-10-20T16:35:43.619301Z"
    }
   },
   "cell_type": "code",
   "source": "import bodycompress",
   "id": "2915a9fbdee19c46",
   "outputs": [],
   "execution_count": 1
  },
  {
   "metadata": {
    "ExecuteTime": {
     "end_time": "2024-10-20T16:36:17.327429Z",
     "start_time": "2024-10-20T16:36:17.325257Z"
    }
   },
   "cell_type": "code",
   "source": "p = '/home/sarandi/mlcwl/data/experiments/huge8_2_effv2s256_300k_reprod_d2d_lr0.15_rebalance1_frmh36_fov_betanllgood9_2gpu_contborder0_100/rich_pred_aug1/Gym_010_dips1/cam_00.xz'",
   "id": "45033e1297c749b",
   "outputs": [],
   "execution_count": 2
  },
  {
   "metadata": {},
   "cell_type": "code",
   "outputs": [],
   "execution_count": null,
   "source": "",
   "id": "c8a8f99179d0c38b"
  }
 ],
 "metadata": {
  "kernelspec": {
   "display_name": "Python 3",
   "language": "python",
   "name": "python3"
  },
  "language_info": {
   "codemirror_mode": {
    "name": "ipython",
    "version": 2
   },
   "file_extension": ".py",
   "mimetype": "text/x-python",
   "name": "python",
   "nbconvert_exporter": "python",
   "pygments_lexer": "ipython2",
   "version": "2.7.6"
  }
 },
 "nbformat": 4,
 "nbformat_minor": 5
}
